{
 "cells": [
  {
   "cell_type": "markdown",
   "metadata": {},
   "source": [
    "## Team StackOverflow :"
   ]
  },
  {
   "cell_type": "markdown",
   "metadata": {},
   "source": [
    "## Stack OverFlow Dataset distribution Under NORMAL DISTRIBUTION."
   ]
  },
  {
   "cell_type": "code",
   "execution_count": 65,
   "metadata": {},
   "outputs": [],
   "source": [
    "import os\n",
    "import struct\n",
    "import pandas as pd\n",
    "import math\n",
    "import numpy as np\n",
    "from scipy import stats\n",
    "import matplotlib.pyplot as plt\n",
    "import seaborn as sns\n",
    "from scipy.stats import norm\n",
    "from sklearn.preprocessing import StandardScaler\n",
    "from scipy import stats\n",
    "import warnings\n",
    "warnings.filterwarnings('ignore')\n",
    "%matplotlib inline"
   ]
  },
  {
   "cell_type": "code",
   "execution_count": 75,
   "metadata": {},
   "outputs": [],
   "source": [
    "from numpy import random\n",
    "import matplotlib.pyplot as plt\n",
    "import seaborn as sns"
   ]
  },
  {
   "cell_type": "code",
   "execution_count": 76,
   "metadata": {
    "scrolled": false
   },
   "outputs": [
    {
     "data": {
      "text/html": [
       "<div>\n",
       "<style scoped>\n",
       "    .dataframe tbody tr th:only-of-type {\n",
       "        vertical-align: middle;\n",
       "    }\n",
       "\n",
       "    .dataframe tbody tr th {\n",
       "        vertical-align: top;\n",
       "    }\n",
       "\n",
       "    .dataframe thead th {\n",
       "        text-align: right;\n",
       "    }\n",
       "</style>\n",
       "<table border=\"1\" class=\"dataframe\">\n",
       "  <thead>\n",
       "    <tr style=\"text-align: right;\">\n",
       "      <th></th>\n",
       "      <th>Id</th>\n",
       "      <th>OwnerUserId</th>\n",
       "      <th>CreationDate</th>\n",
       "      <th>ClosedDate</th>\n",
       "      <th>Score</th>\n",
       "      <th>Title</th>\n",
       "      <th>Body</th>\n",
       "    </tr>\n",
       "  </thead>\n",
       "  <tbody>\n",
       "    <tr>\n",
       "      <th>1</th>\n",
       "      <td>90</td>\n",
       "      <td>58.0</td>\n",
       "      <td>2008-08-01T14:41:24Z</td>\n",
       "      <td>2012-12-26T03:45:49Z</td>\n",
       "      <td>144</td>\n",
       "      <td>Good branching and merging tutorials for Torto...</td>\n",
       "      <td>&lt;p&gt;Are there any really good tutorials explain...</td>\n",
       "    </tr>\n",
       "    <tr>\n",
       "      <th>6</th>\n",
       "      <td>470</td>\n",
       "      <td>71.0</td>\n",
       "      <td>2008-08-02T15:11:47Z</td>\n",
       "      <td>2016-03-26T05:23:29Z</td>\n",
       "      <td>13</td>\n",
       "      <td>Homegrown consumption of web services</td>\n",
       "      <td>&lt;p&gt;I've been writing a few web services for a ...</td>\n",
       "    </tr>\n",
       "    <tr>\n",
       "      <th>27</th>\n",
       "      <td>2540</td>\n",
       "      <td>136.0</td>\n",
       "      <td>2008-08-05T16:30:37Z</td>\n",
       "      <td>2014-04-03T15:36:28Z</td>\n",
       "      <td>39</td>\n",
       "      <td>Good STL-like library for C</td>\n",
       "      <td>&lt;p&gt;What are good libraries for C with datastru...</td>\n",
       "    </tr>\n",
       "    <tr>\n",
       "      <th>29</th>\n",
       "      <td>2630</td>\n",
       "      <td>17.0</td>\n",
       "      <td>2008-08-05T18:01:32Z</td>\n",
       "      <td>2012-02-22T01:58:23Z</td>\n",
       "      <td>14</td>\n",
       "      <td>What are your favorite Powershell Cmdlets?</td>\n",
       "      <td>&lt;p&gt;I just found /n softwares free Powershell N...</td>\n",
       "    </tr>\n",
       "    <tr>\n",
       "      <th>35</th>\n",
       "      <td>2970</td>\n",
       "      <td>58.0</td>\n",
       "      <td>2008-08-05T23:55:25Z</td>\n",
       "      <td>2012-03-06T03:17:01Z</td>\n",
       "      <td>17</td>\n",
       "      <td>My website got hacked... What should I do?</td>\n",
       "      <td>&lt;p&gt;My dad called me today and said people goin...</td>\n",
       "    </tr>\n",
       "    <tr>\n",
       "      <th>37</th>\n",
       "      <td>3180</td>\n",
       "      <td>479.0</td>\n",
       "      <td>2008-08-06T08:47:45Z</td>\n",
       "      <td>2012-08-13T12:20:03Z</td>\n",
       "      <td>29</td>\n",
       "      <td>Anyone soloing using fogbugz?</td>\n",
       "      <td>&lt;p&gt;Is there anyone working solo and using fogb...</td>\n",
       "    </tr>\n",
       "    <tr>\n",
       "      <th>45</th>\n",
       "      <td>4080</td>\n",
       "      <td>235.0</td>\n",
       "      <td>2008-08-06T22:45:27Z</td>\n",
       "      <td>2012-05-05T13:39:59Z</td>\n",
       "      <td>92</td>\n",
       "      <td>What code analysis tools do you use for your J...</td>\n",
       "      <td>&lt;p&gt;What code analysis tools do you use on your...</td>\n",
       "    </tr>\n",
       "    <tr>\n",
       "      <th>46</th>\n",
       "      <td>4110</td>\n",
       "      <td>369.0</td>\n",
       "      <td>2008-08-06T23:19:50Z</td>\n",
       "      <td>2014-12-30T11:43:01Z</td>\n",
       "      <td>7</td>\n",
       "      <td>What program can I use to generate diagrams of...</td>\n",
       "      <td>&lt;p&gt;I've been tasked with redesigning part of a...</td>\n",
       "    </tr>\n",
       "    <tr>\n",
       "      <th>59</th>\n",
       "      <td>5170</td>\n",
       "      <td>383.0</td>\n",
       "      <td>2008-08-07T19:06:03Z</td>\n",
       "      <td>2012-10-18T03:03:05Z</td>\n",
       "      <td>90</td>\n",
       "      <td>SQL Server Management Studio alternatives to b...</td>\n",
       "      <td>&lt;p&gt;I was wondering if there are any alternativ...</td>\n",
       "    </tr>\n",
       "    <tr>\n",
       "      <th>61</th>\n",
       "      <td>5460</td>\n",
       "      <td>590.0</td>\n",
       "      <td>2008-08-07T23:00:30Z</td>\n",
       "      <td>2012-11-16T12:21:26Z</td>\n",
       "      <td>3</td>\n",
       "      <td>Telligent's Community Server</td>\n",
       "      <td>&lt;p&gt;The company I work for is wanting to add bl...</td>\n",
       "    </tr>\n",
       "    <tr>\n",
       "      <th>76</th>\n",
       "      <td>7260</td>\n",
       "      <td>889.0</td>\n",
       "      <td>2008-08-10T17:50:11Z</td>\n",
       "      <td>2013-05-03T17:43:56Z</td>\n",
       "      <td>48</td>\n",
       "      <td>How do I setup Public-Key Authentication?</td>\n",
       "      <td>&lt;p&gt;How do I setup Public-Key Authentication fo...</td>\n",
       "    </tr>\n",
       "    <tr>\n",
       "      <th>77</th>\n",
       "      <td>7440</td>\n",
       "      <td>889.0</td>\n",
       "      <td>2008-08-11T00:05:36Z</td>\n",
       "      <td>2012-12-22T19:07:37Z</td>\n",
       "      <td>31</td>\n",
       "      <td>What do you use to Unit-Test your Web UI?</td>\n",
       "      <td>&lt;p&gt;The company I'm currently working for is us...</td>\n",
       "    </tr>\n",
       "    <tr>\n",
       "      <th>82</th>\n",
       "      <td>7940</td>\n",
       "      <td>428190.0</td>\n",
       "      <td>2008-08-11T16:46:28Z</td>\n",
       "      <td>2013-03-20T10:16:04Z</td>\n",
       "      <td>8</td>\n",
       "      <td>How important is W3C XHTML/CSS validation when...</td>\n",
       "      <td>&lt;p&gt;Even though I always strive for complete va...</td>\n",
       "    </tr>\n",
       "    <tr>\n",
       "      <th>83</th>\n",
       "      <td>7990</td>\n",
       "      <td>96.0</td>\n",
       "      <td>2008-08-11T17:37:27Z</td>\n",
       "      <td>2012-08-17T20:13:41Z</td>\n",
       "      <td>19</td>\n",
       "      <td>Printing from a .NET Service</td>\n",
       "      <td>&lt;p&gt;I am working on a project right now that in...</td>\n",
       "    </tr>\n",
       "    <tr>\n",
       "      <th>84</th>\n",
       "      <td>8050</td>\n",
       "      <td>383.0</td>\n",
       "      <td>2008-08-11T18:19:48Z</td>\n",
       "      <td>2013-05-07T08:37:33Z</td>\n",
       "      <td>35</td>\n",
       "      <td>Beginners Guide to LINQ</td>\n",
       "      <td>&lt;p&gt;During the beta of Stack Overflow, I have s...</td>\n",
       "    </tr>\n",
       "  </tbody>\n",
       "</table>\n",
       "</div>"
      ],
      "text/plain": [
       "      Id  OwnerUserId          CreationDate            ClosedDate  Score  \\\n",
       "1     90         58.0  2008-08-01T14:41:24Z  2012-12-26T03:45:49Z    144   \n",
       "6    470         71.0  2008-08-02T15:11:47Z  2016-03-26T05:23:29Z     13   \n",
       "27  2540        136.0  2008-08-05T16:30:37Z  2014-04-03T15:36:28Z     39   \n",
       "29  2630         17.0  2008-08-05T18:01:32Z  2012-02-22T01:58:23Z     14   \n",
       "35  2970         58.0  2008-08-05T23:55:25Z  2012-03-06T03:17:01Z     17   \n",
       "37  3180        479.0  2008-08-06T08:47:45Z  2012-08-13T12:20:03Z     29   \n",
       "45  4080        235.0  2008-08-06T22:45:27Z  2012-05-05T13:39:59Z     92   \n",
       "46  4110        369.0  2008-08-06T23:19:50Z  2014-12-30T11:43:01Z      7   \n",
       "59  5170        383.0  2008-08-07T19:06:03Z  2012-10-18T03:03:05Z     90   \n",
       "61  5460        590.0  2008-08-07T23:00:30Z  2012-11-16T12:21:26Z      3   \n",
       "76  7260        889.0  2008-08-10T17:50:11Z  2013-05-03T17:43:56Z     48   \n",
       "77  7440        889.0  2008-08-11T00:05:36Z  2012-12-22T19:07:37Z     31   \n",
       "82  7940     428190.0  2008-08-11T16:46:28Z  2013-03-20T10:16:04Z      8   \n",
       "83  7990         96.0  2008-08-11T17:37:27Z  2012-08-17T20:13:41Z     19   \n",
       "84  8050        383.0  2008-08-11T18:19:48Z  2013-05-07T08:37:33Z     35   \n",
       "\n",
       "                                                Title  \\\n",
       "1   Good branching and merging tutorials for Torto...   \n",
       "6               Homegrown consumption of web services   \n",
       "27                        Good STL-like library for C   \n",
       "29         What are your favorite Powershell Cmdlets?   \n",
       "35         My website got hacked... What should I do?   \n",
       "37                      Anyone soloing using fogbugz?   \n",
       "45  What code analysis tools do you use for your J...   \n",
       "46  What program can I use to generate diagrams of...   \n",
       "59  SQL Server Management Studio alternatives to b...   \n",
       "61                       Telligent's Community Server   \n",
       "76          How do I setup Public-Key Authentication?   \n",
       "77          What do you use to Unit-Test your Web UI?   \n",
       "82  How important is W3C XHTML/CSS validation when...   \n",
       "83                       Printing from a .NET Service   \n",
       "84                            Beginners Guide to LINQ   \n",
       "\n",
       "                                                 Body  \n",
       "1   <p>Are there any really good tutorials explain...  \n",
       "6   <p>I've been writing a few web services for a ...  \n",
       "27  <p>What are good libraries for C with datastru...  \n",
       "29  <p>I just found /n softwares free Powershell N...  \n",
       "35  <p>My dad called me today and said people goin...  \n",
       "37  <p>Is there anyone working solo and using fogb...  \n",
       "45  <p>What code analysis tools do you use on your...  \n",
       "46  <p>I've been tasked with redesigning part of a...  \n",
       "59  <p>I was wondering if there are any alternativ...  \n",
       "61  <p>The company I work for is wanting to add bl...  \n",
       "76  <p>How do I setup Public-Key Authentication fo...  \n",
       "77  <p>The company I'm currently working for is us...  \n",
       "82  <p>Even though I always strive for complete va...  \n",
       "83  <p>I am working on a project right now that in...  \n",
       "84  <p>During the beta of Stack Overflow, I have s...  "
      ]
     },
     "execution_count": 76,
     "metadata": {},
     "output_type": "execute_result"
    }
   ],
   "source": [
    "df_questions = pd.read_csv(\"/home/pranavhegde/Documents/Stack_Over_Flow_Dataset/Questions.csv\", nrows=5000,usecols =['Id', 'OwnerUserId', 'CreationDate', 'ClosedDate', 'Score','Title','Body'],encoding='latin1')\n",
    "df_questions = df_questions.dropna()\n",
    "df_questions.head(15)"
   ]
  },
  {
   "cell_type": "code",
   "execution_count": 128,
   "metadata": {},
   "outputs": [
    {
     "data": {
      "text/plain": [
       "<matplotlib.axes._subplots.AxesSubplot at 0x7fb285cf67b8>"
      ]
     },
     "execution_count": 128,
     "metadata": {},
     "output_type": "execute_result"
    },
    {
     "data": {
      "image/png": "[encoded data removed]",
      "text/plain": [
       "<Figure size 432x288 with 1 Axes>"
      ]
     },
     "metadata": {
      "needs_background": "light"
     },
     "output_type": "display_data"
    }
   ],
   "source": [
    "sns.distplot(random.normal(size=20000), hist=False)"
   ]
  },
  {
   "cell_type": "markdown",
   "metadata": {},
   "source": [
    "##  Calculation Of Mean ,Median,Standard Devation"
   ]
  },
  {
   "cell_type": "code",
   "execution_count": 135,
   "metadata": {},
   "outputs": [],
   "source": [
    "mean_id = df_questions['Id'].mean()"
   ]
  },
  {
   "cell_type": "code",
   "execution_count": 130,
   "metadata": {},
   "outputs": [],
   "source": [
    "median_id = df_questions['Id'].median() "
   ]
  },
  {
   "cell_type": "code",
   "execution_count": 131,
   "metadata": {},
   "outputs": [],
   "source": [
    "std_id = df_questions['Id'].std()"
   ]
  },
  {
   "cell_type": "code",
   "execution_count": 132,
   "metadata": {},
   "outputs": [
    {
     "name": "stdout",
     "output_type": "stream",
     "text": [
      "Mean Id: 11.597968670123816\n"
     ]
    }
   ],
   "source": [
    "print ('Mean Id: ' + str(mean_id))"
   ]
  },
  {
   "cell_type": "code",
   "execution_count": 133,
   "metadata": {},
   "outputs": [
    {
     "name": "stdout",
     "output_type": "stream",
     "text": [
      "Median Id: 11.94671884506525\n"
     ]
    }
   ],
   "source": [
    "print ('Median Id: ' + str(median_id))"
   ]
  },
  {
   "cell_type": "code",
   "execution_count": 134,
   "metadata": {},
   "outputs": [
    {
     "name": "stdout",
     "output_type": "stream",
     "text": [
      "std_id: 1.1204336083943804\n"
     ]
    }
   ],
   "source": [
    "print ('std_id: ' + str(std_id))"
   ]
  },
  {
   "cell_type": "code",
   "execution_count": 120,
   "metadata": {},
   "outputs": [],
   "source": [
    "mean1 = df_questions['Score'].mean()"
   ]
  },
  {
   "cell_type": "code",
   "execution_count": 121,
   "metadata": {},
   "outputs": [],
   "source": [
    "median1 = df_questions['Score'].median() "
   ]
  },
  {
   "cell_type": "code",
   "execution_count": 122,
   "metadata": {},
   "outputs": [],
   "source": [
    "std1 = df_questions['Score'].std()"
   ]
  },
  {
   "cell_type": "code",
   "execution_count": 123,
   "metadata": {},
   "outputs": [
    {
     "name": "stdout",
     "output_type": "stream",
     "text": [
      "Mean Score: 37.26740947075209\n"
     ]
    }
   ],
   "source": [
    "print ('Mean Score: ' + str(mean1))"
   ]
  },
  {
   "cell_type": "code",
   "execution_count": 124,
   "metadata": {},
   "outputs": [
    {
     "name": "stdout",
     "output_type": "stream",
     "text": [
      "Median Score: 11.0\n"
     ]
    }
   ],
   "source": [
    "print ('Median Score: ' + str(median1))"
   ]
  },
  {
   "cell_type": "code",
   "execution_count": 125,
   "metadata": {},
   "outputs": [
    {
     "name": "stdout",
     "output_type": "stream",
     "text": [
      "Std of Score: 78.24592960107466\n"
     ]
    }
   ],
   "source": [
    "print ('Std of Score: ' + str(std1))"
   ]
  },
  {
   "cell_type": "code",
   "execution_count": 126,
   "metadata": {},
   "outputs": [
    {
     "name": "stdout",
     "output_type": "stream",
     "text": [
      "<class 'pandas.core.frame.DataFrame'>\n",
      "Int64Index: 359 entries, 1 to 4966\n",
      "Data columns (total 7 columns):\n",
      "Id              359 non-null float64\n",
      "OwnerUserId     359 non-null float64\n",
      "CreationDate    359 non-null object\n",
      "ClosedDate      359 non-null object\n",
      "Score           359 non-null int64\n",
      "Title           359 non-null object\n",
      "Body            359 non-null object\n",
      "dtypes: float64(2), int64(1), object(4)\n",
      "memory usage: 22.4+ KB\n"
     ]
    }
   ],
   "source": [
    "df_questions.info()"
   ]
  },
  {
   "cell_type": "code",
   "execution_count": 78,
   "metadata": {},
   "outputs": [
    {
     "data": {
      "text/plain": [
       "Index(['Id', 'OwnerUserId', 'CreationDate', 'ClosedDate', 'Score', 'Title',\n",
       "       'Body'],\n",
       "      dtype='object')"
      ]
     },
     "execution_count": 78,
     "metadata": {},
     "output_type": "execute_result"
    }
   ],
   "source": [
    "df_questions.columns"
   ]
  },
  {
   "cell_type": "code",
   "execution_count": 112,
   "metadata": {},
   "outputs": [
    {
     "data": {
      "text/plain": [
       "count       359.000000\n",
       "mean     158615.543175\n",
       "std      102380.576153\n",
       "min          90.000000\n",
       "25%       61755.000000\n",
       "50%      154310.000000\n",
       "75%      241295.000000\n",
       "max      351400.000000\n",
       "Name: Id, dtype: float64"
      ]
     },
     "execution_count": 112,
     "metadata": {},
     "output_type": "execute_result"
    }
   ],
   "source": [
    "df_questions['Id'].describe()"
   ]
  },
  {
   "cell_type": "code",
   "execution_count": 113,
   "metadata": {},
   "outputs": [],
   "source": [
    "df_questions['Id'] = np.log(df_questions['Id'])"
   ]
  },
  {
   "cell_type": "markdown",
   "metadata": {},
   "source": [
    "## Plotting The Graph"
   ]
  },
  {
   "cell_type": "code",
   "execution_count": 114,
   "metadata": {},
   "outputs": [
    {
     "data": {
      "image/png": "[encoded data removed]",
      "text/plain": [
       "<Figure size 432x288 with 1 Axes>"
      ]
     },
     "metadata": {
      "needs_background": "light"
     },
     "output_type": "display_data"
    },
    {
     "data": {
      "image/png": "[encoded data removed]",
      "text/plain": [
       "<Figure size 432x288 with 1 Axes>"
      ]
     },
     "metadata": {
      "needs_background": "light"
     },
     "output_type": "display_data"
    }
   ],
   "source": [
    "sns.distplot(df_questions['Id'], fit=norm);\n",
    "fig = plt.figure()\n",
    "res = stats.probplot(df_questions['Id'], plot=plt)"
   ]
  },
  {
   "cell_type": "code",
   "execution_count": 93,
   "metadata": {},
   "outputs": [
    {
     "data": {
      "text/plain": [
       "count    359.000000\n",
       "mean      37.267409\n",
       "std       78.245930\n",
       "min       -3.000000\n",
       "25%        3.000000\n",
       "50%       11.000000\n",
       "75%       35.000000\n",
       "max      695.000000\n",
       "Name: Score, dtype: float64"
      ]
     },
     "execution_count": 93,
     "metadata": {},
     "output_type": "execute_result"
    }
   ],
   "source": [
    "df_questions['Score'].describe()"
   ]
  },
  {
   "cell_type": "code",
   "execution_count": 94,
   "metadata": {},
   "outputs": [
    {
     "data": {
      "image/png": "[encoded data removed]",
      "text/plain": [
       "<Figure size 432x288 with 1 Axes>"
      ]
     },
     "metadata": {
      "needs_background": "light"
     },
     "output_type": "display_data"
    },
    {
     "data": {
      "image/png": "[encoded data removed]",
      "text/plain": [
       "<Figure size 432x288 with 1 Axes>"
      ]
     },
     "metadata": {
      "needs_background": "light"
     },
     "output_type": "display_data"
    }
   ],
   "source": [
    "sns.distplot(df_questions['Score'], fit=norm);\n",
    "fig = plt.figure()\n",
    "res = stats.probplot(df_questions['Score'], plot=plt)"
   ]
  },
  {
   "cell_type": "code",
   "execution_count": 127,
   "metadata": {},
   "outputs": [
    {
     "data": {
      "text/plain": [
       "count    359.000000\n",
       "mean       8.795742\n",
       "std        1.769154\n",
       "min        2.833213\n",
       "25%        7.874737\n",
       "50%        8.953381\n",
       "75%        9.915292\n",
       "max       14.810237\n",
       "Name: OwnerUserId, dtype: float64"
      ]
     },
     "execution_count": 127,
     "metadata": {},
     "output_type": "execute_result"
    }
   ],
   "source": [
    "df_questions['OwnerUserId'].describe()"
   ]
  },
  {
   "cell_type": "code",
   "execution_count": 119,
   "metadata": {},
   "outputs": [
    {
     "data": {
      "image/png": "[encoded data removed]",
      "text/plain": [
       "<Figure size 432x288 with 1 Axes>"
      ]
     },
     "metadata": {
      "needs_background": "light"
     },
     "output_type": "display_data"
    },
    {
     "data": {
      "image/png": "[encoded data removed]",
      "text/plain": [
       "<Figure size 432x288 with 1 Axes>"
      ]
     },
     "metadata": {
      "needs_background": "light"
     },
     "output_type": "display_data"
    }
   ],
   "source": [
    "sns.distplot(df_questions['OwnerUserId'], fit=norm);\n",
    "fig = plt.figure()\n",
    "res = stats.probplot(df_questions['OwnerUserId'], plot=plt)"
   ]
  },
  {
   "cell_type": "code",
   "execution_count": null,
   "metadata": {},
   "outputs": [],
   "source": []
  }
 ],
 "metadata": {
  "kernelspec": {
   "display_name": "Python 3",
   "language": "python",
   "name": "python3"
  },
  "language_info": {
   "codemirror_mode": {
    "name": "ipython",
    "version": 3
   },
   "file_extension": ".py",
   "mimetype": "text/x-python",
   "name": "python",
   "nbconvert_exporter": "python",
   "pygments_lexer": "ipython3",
   "version": "3.6.9"
  }
 },
 "nbformat": 4,
 "nbformat_minor": 4
}
